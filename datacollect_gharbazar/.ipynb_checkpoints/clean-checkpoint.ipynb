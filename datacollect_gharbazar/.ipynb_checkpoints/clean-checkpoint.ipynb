{
 "cells": [
  {
   "cell_type": "code",
   "execution_count": 7,
   "id": "962e8319",
   "metadata": {},
   "outputs": [],
   "source": [
    "def convert_to_square_feet(value):\n",
    "    parts = value.split(',')\n",
    "    square_feet = 0.0\n",
    "    for part in parts:\n",
    "        sub_parts = part.split('-')\n",
    "        \n",
    "        if len(sub_parts) == 4:\n",
    "            try:\n",
    "                aana = int(sub_parts[1])\n",
    "                ropani = int(sub_parts[0])\n",
    "                dam = int(sub_parts[3])\n",
    "                paisa = int(sub_parts[2])\n",
    "\n",
    "                square_feet += (aana * 342.25) + (ropani * 5476) + (dam * 21.39) + (paisa * 85.56)\n",
    "                break\n",
    "            except ValueError:\n",
    "                pass\n",
    "    return square_feet\n",
    "\n",
    "csv_file = 'housesgb.csv'\n",
    "\n",
    "with open(csv_file, 'r') as file:\n",
    "    reader = csv.DictReader(file)\n",
    "    rows = list(reader)\n",
    "\n",
    "for row in rows:\n",
    "    landsize = row['Land']\n",
    "    converted = convert_to_square_feet(landsize)  \n",
    "   \n",
    "    if converted ==0:\n",
    "        row['Land'] = landsize\n",
    "    else:\n",
    "        row['Land'] = str(converted)\n",
    "\n",
    "with open('up_house.csv', 'w', newline='') as file:\n",
    "    fieldnames = reader.fieldnames\n",
    "    writer = csv.DictWriter(file, fieldnames=fieldnames)\n",
    "    writer.writeheader()\n",
    "    writer.writerows(rows)"
   ]
  },
  {
   "cell_type": "code",
   "execution_count": 2,
   "id": "ec861789",
   "metadata": {},
   "outputs": [],
   "source": [
    "import csv\n",
    "import re\n",
    "import pandas as pd"
   ]
  },
  {
   "cell_type": "code",
   "execution_count": 3,
   "id": "36282d39",
   "metadata": {},
   "outputs": [],
   "source": [
    "with open('housesgb.csv', 'r') as file:\n",
    "    reader = csv.DictReader(file)\n",
    "    rows = list(reader)"
   ]
  },
  {
   "cell_type": "code",
   "execution_count": 1,
   "id": "d4fc035d",
   "metadata": {},
   "outputs": [],
   "source": [
    "import pandas as pd\n",
    "\n",
    "# Load the CSV file into a pandas DataFrame\n",
    "df = pd.read_csv('housesgb.csv')\n",
    "\n",
    "# Convert the \"Address\" column to normal form\n",
    "df['Address'] = df['Address'].str.capitalize()\n",
    "\n",
    "# Save the updated DataFrame back to a CSV file\n",
    "df.to_csv('housesgb2.csv', index=False)\n"
   ]
  },
  {
   "cell_type": "code",
   "execution_count": null,
   "id": "861512aa",
   "metadata": {},
   "outputs": [],
   "source": []
  }
 ],
 "metadata": {
  "kernelspec": {
   "display_name": "Python 3 (ipykernel)",
   "language": "python",
   "name": "python3"
  },
  "language_info": {
   "codemirror_mode": {
    "name": "ipython",
    "version": 3
   },
   "file_extension": ".py",
   "mimetype": "text/x-python",
   "name": "python",
   "nbconvert_exporter": "python",
   "pygments_lexer": "ipython3",
   "version": "3.10.9"
  }
 },
 "nbformat": 4,
 "nbformat_minor": 5
}
