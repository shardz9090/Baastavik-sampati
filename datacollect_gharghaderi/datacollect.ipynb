{
 "cells": [
  {
   "cell_type": "code",
   "execution_count": 1,
   "id": "2634018f",
   "metadata": {},
   "outputs": [],
   "source": [
    "from selenium import webdriver\n",
    "from selenium.webdriver.chrome.service import Service\n",
    "from time import sleep\n",
    "import time\n",
    "from selenium.webdriver.support.ui import WebDriverWait\n",
    "from selenium.webdriver.support import expected_conditions as EC\n",
    "from selenium.webdriver.common.by import By\n",
    "from selenium.webdriver.common.keys import Keys\n",
    "import csv"
   ]
  },
  {
   "cell_type": "code",
   "execution_count": 2,
   "id": "8c491441",
   "metadata": {},
   "outputs": [],
   "source": [
    "path = \"..\\chromedriver.exe\"\n",
    "service = Service(executable_path=path)\n",
    "driver = webdriver.Chrome(service=service)\n",
    "driver.get('https://www.gharghaderi.com/house-for-sale/')\n",
    "driver.maximize_window()"
   ]
  },
  {
   "cell_type": "code",
   "execution_count": 19,
   "id": "9feeae13",
   "metadata": {},
   "outputs": [],
   "source": [
    "#press more listing button till end\n",
    "for i in range(1,300):\n",
    "    time.sleep(5)\n",
    "    more_button = driver.find_element(by=\"xpath\",value='/html/body/div/div/div/div/span/button')\n",
    "    more_button.click()\n",
    "    "
   ]
  },
  {
   "cell_type": "code",
   "execution_count": 9,
   "id": "e7fe3596",
   "metadata": {},
   "outputs": [],
   "source": [
    "house_details_link = driver.find_elements(by=\"xpath\",value='/html/body/div/div/div/div/a')"
   ]
  },
  {
   "cell_type": "code",
   "execution_count": 17,
   "id": "dc14c782",
   "metadata": {},
   "outputs": [],
   "source": [
    "#get house links\n",
    "list_of_house_links=[]\n",
    "for house in house_details_link:\n",
    "    house_link=house.get_property(\"href\")\n",
    "    list_of_house_links.append(house_link)\n",
    "    print(house_link)"
   ]
  },
  {
   "cell_type": "code",
   "execution_count": 15,
   "id": "86bafece",
   "metadata": {},
   "outputs": [],
   "source": [
    "#put house links in csv file\n",
    "\n",
    "with open('house_links_ghar.csv', mode='w', newline='') as file:\n",
    "    writer = csv.writer(file)\n",
    "    for link in list_of_house_links:\n",
    "        writer.writerow([link])"
   ]
  },
  {
   "cell_type": "code",
   "execution_count": 18,
   "id": "64ce4668",
   "metadata": {},
   "outputs": [],
   "source": [
    "## data sorting"
   ]
  },
  {
   "cell_type": "code",
   "execution_count": 3,
   "id": "c0c751d4",
   "metadata": {},
   "outputs": [],
   "source": [
    "with open('house_links_ghar.csv') as csv_file:\n",
    "    csv_reader = csv.reader(csv_file)\n",
    "    urls = [row[0] for row in csv_reader]"
   ]
  },
  {
   "cell_type": "code",
   "execution_count": 4,
   "id": "46a1735a",
   "metadata": {},
   "outputs": [
    {
     "name": "stdout",
     "output_type": "stream",
     "text": [
      "done\n"
     ]
    }
   ],
   "source": [
    "data_list=[]\n",
    "\n",
    "for url in urls:\n",
    "    try:\n",
    "        driver.get(url)\n",
    "        data_dict = {}\n",
    "        try:\n",
    "            district = driver.find_element(By.CSS_SELECTOR, 'body > div.wrapper > div > div.subcontent > div.last-section > div:nth-child(12) > table > tbody > tr:nth-child(2) > td.test1')\n",
    "            data_dict['City'] = district.text            \n",
    "        except:pass\n",
    "        try:\n",
    "            address = driver.find_element(By.CSS_SELECTOR, 'body > div.wrapper > div > div.subcontent > div.last-section > div:nth-child(12) > table > tbody > tr:nth-child(4) > td.test1')\n",
    "            data_dict['Address'] = address.text        \n",
    "        except:pass\n",
    "        \n",
    "        try:\n",
    "            land = driver.find_element(By.CSS_SELECTOR, 'body > div.wrapper > div > div.subcontent > div.last-section > div:nth-child(14) > table > tbody > tr:nth-child(3) > td.test1')\n",
    "            data_dict['Land'] = land.text        \n",
    "        except:pass\n",
    "        \n",
    "        try:\n",
    "            road = driver.find_element(By.CSS_SELECTOR, 'body > div.wrapper > div > div.subcontent > div.last-section > div:nth-child(14) > table > tbody > tr:nth-child(5) > td.test1')\n",
    "            data_dict['Road'] = road.text            \n",
    "        except:pass\n",
    "        \n",
    "        try:\n",
    "            pricemon = driver.find_element(By.CSS_SELECTOR, 'body > div.wrapper > div > div.subcontent > div.last-section > div:nth-child(14) > table > tbody > tr:nth-child(1) > td.test1')\n",
    "            aa = pricemon.text\n",
    "            price = aa.strip(\"रु.\")\n",
    "            data_dict['Price'] = price            \n",
    "        except:pass\n",
    "        \n",
    "        try:\n",
    "            bedroom = driver.find_element(By.CSS_SELECTOR, 'body > div.wrapper > div > div.subcontent > div.last-section > div:nth-child(15) > table > tbody > tr:nth-child(2) > td.test1')\n",
    "            data_dict['Bedroom'] = bedroom.text        \n",
    "        except:pass\n",
    "        \n",
    "        try:\n",
    "            bathroom = driver.find_element(By.CSS_SELECTOR, 'body > div.wrapper > div > div.subcontent > div.last-section > div:nth-child(15) > table > tbody > tr:nth-child(3) > td.test1') \n",
    "            data_dict['Bathroom'] = bathroom.text    \n",
    "        except:pass\n",
    "                \n",
    "        try:\n",
    "            direction = driver.find_element(By.CSS_SELECTOR, 'body > div.wrapper > div > div.subcontent > div.last-section > div:nth-child(15) > table > tbody > tr:nth-child(1) > td.test1')\n",
    "            data_dict['Face'] = direction.text        \n",
    "        except:pass\n",
    "        \n",
    "        try:\n",
    "            floor = driver.find_element(By.CSS_SELECTOR, 'body > div.wrapper > div > div.subcontent > div.last-section > div:nth-child(14) > table > tbody > tr:nth-child(4) > td.test1')\n",
    "            data_dict['Floors'] = floor.text\n",
    "        except:pass\n",
    "        \n",
    "\n",
    "        data_dict['url']=url\n",
    "        # Print the dictionary\n",
    "        data_list.append(data_dict)\n",
    "    except:\n",
    "        continue\n",
    "\n",
    "print(\"done\")"
   ]
  },
  {
   "cell_type": "code",
   "execution_count": 5,
   "id": "de12b03a",
   "metadata": {},
   "outputs": [
    {
     "data": {
      "text/html": [
       "<div>\n",
       "<style scoped>\n",
       "    .dataframe tbody tr th:only-of-type {\n",
       "        vertical-align: middle;\n",
       "    }\n",
       "\n",
       "    .dataframe tbody tr th {\n",
       "        vertical-align: top;\n",
       "    }\n",
       "\n",
       "    .dataframe thead th {\n",
       "        text-align: right;\n",
       "    }\n",
       "</style>\n",
       "<table border=\"1\" class=\"dataframe\">\n",
       "  <thead>\n",
       "    <tr style=\"text-align: right;\">\n",
       "      <th></th>\n",
       "      <th>City</th>\n",
       "      <th>Address</th>\n",
       "      <th>Land</th>\n",
       "      <th>Road</th>\n",
       "      <th>Price</th>\n",
       "      <th>Bedroom</th>\n",
       "      <th>Bathroom</th>\n",
       "      <th>Face</th>\n",
       "      <th>Floors</th>\n",
       "      <th>url</th>\n",
       "    </tr>\n",
       "  </thead>\n",
       "  <tbody>\n",
       "    <tr>\n",
       "      <th>690</th>\n",
       "      <td>Kathmandu</td>\n",
       "      <td>Kapan</td>\n",
       "      <td>2.5 aana</td>\n",
       "      <td>8 ft</td>\n",
       "      <td>1,25,00,000</td>\n",
       "      <td>4</td>\n",
       "      <td>3</td>\n",
       "      <td>NaN</td>\n",
       "      <td>NaN</td>\n",
       "      <td>https://www.gharghaderi.com/house/385-House-fo...</td>\n",
       "    </tr>\n",
       "    <tr>\n",
       "      <th>691</th>\n",
       "      <td>Kathmandu</td>\n",
       "      <td>Sukedhara</td>\n",
       "      <td>0-3-0-0</td>\n",
       "      <td>13 ft</td>\n",
       "      <td>1,72,00,000</td>\n",
       "      <td>NaN</td>\n",
       "      <td>NaN</td>\n",
       "      <td>south west</td>\n",
       "      <td>2.5</td>\n",
       "      <td>https://www.gharghaderi.com/house/371-House-fo...</td>\n",
       "    </tr>\n",
       "    <tr>\n",
       "      <th>692</th>\n",
       "      <td>Kathmandu</td>\n",
       "      <td>Samakhusi</td>\n",
       "      <td>4 aana</td>\n",
       "      <td>12 ft</td>\n",
       "      <td>2,35,00,000</td>\n",
       "      <td>5+</td>\n",
       "      <td>4</td>\n",
       "      <td>NaN</td>\n",
       "      <td>2.5</td>\n",
       "      <td>https://www.gharghaderi.com/house/359-Semi-fur...</td>\n",
       "    </tr>\n",
       "    <tr>\n",
       "      <th>693</th>\n",
       "      <td>Kathmandu</td>\n",
       "      <td>Kadaghari</td>\n",
       "      <td>3.2.2.</td>\n",
       "      <td>12 ft</td>\n",
       "      <td>1,95,00,000</td>\n",
       "      <td>NaN</td>\n",
       "      <td>NaN</td>\n",
       "      <td>North</td>\n",
       "      <td>1</td>\n",
       "      <td>https://www.gharghaderi.com/house/357-Ghar-bik...</td>\n",
       "    </tr>\n",
       "    <tr>\n",
       "      <th>694</th>\n",
       "      <td>NaN</td>\n",
       "      <td>NaN</td>\n",
       "      <td>NaN</td>\n",
       "      <td>NaN</td>\n",
       "      <td>NaN</td>\n",
       "      <td>NaN</td>\n",
       "      <td>NaN</td>\n",
       "      <td>NaN</td>\n",
       "      <td>NaN</td>\n",
       "      <td>https://www.gharghaderi.com/house/340-1.5-stor...</td>\n",
       "    </tr>\n",
       "  </tbody>\n",
       "</table>\n",
       "</div>"
      ],
      "text/plain": [
       "          City    Address      Land   Road         Price Bedroom Bathroom  \\\n",
       "690  Kathmandu      Kapan  2.5 aana   8 ft   1,25,00,000       4        3   \n",
       "691  Kathmandu  Sukedhara   0-3-0-0  13 ft   1,72,00,000     NaN      NaN   \n",
       "692  Kathmandu  Samakhusi    4 aana  12 ft   2,35,00,000      5+        4   \n",
       "693  Kathmandu  Kadaghari    3.2.2.  12 ft   1,95,00,000     NaN      NaN   \n",
       "694        NaN        NaN       NaN    NaN           NaN     NaN      NaN   \n",
       "\n",
       "           Face Floors                                                url  \n",
       "690         NaN    NaN  https://www.gharghaderi.com/house/385-House-fo...  \n",
       "691  south west    2.5  https://www.gharghaderi.com/house/371-House-fo...  \n",
       "692         NaN    2.5  https://www.gharghaderi.com/house/359-Semi-fur...  \n",
       "693       North      1  https://www.gharghaderi.com/house/357-Ghar-bik...  \n",
       "694         NaN    NaN  https://www.gharghaderi.com/house/340-1.5-stor...  "
      ]
     },
     "execution_count": 5,
     "metadata": {},
     "output_type": "execute_result"
    }
   ],
   "source": [
    "import pandas as pd\n",
    "\n",
    "df = pd.DataFrame(data_list)\n",
    "df.to_csv('houses.csv',index=False)\n",
    "df_input = pd.read_csv('houses.csv')\n",
    "df_input.tail()"
   ]
  },
  {
   "cell_type": "code",
   "execution_count": 6,
   "id": "6dcca440",
   "metadata": {},
   "outputs": [],
   "source": [
    "import pandas as pd\n",
    "\n",
    "df1 = pd.read_csv('eprophouse.csv')\n",
    "df2 = pd.read_csv('houses_gharghaderi.csv')"
   ]
  },
  {
   "cell_type": "code",
   "execution_count": 7,
   "id": "11e2b84e",
   "metadata": {},
   "outputs": [],
   "source": [
    "df_merged = pd.concat([df1, df2], axis=0, ignore_index=True)"
   ]
  },
  {
   "cell_type": "code",
   "execution_count": 9,
   "id": "57674151",
   "metadata": {},
   "outputs": [],
   "source": [
    "df_merged = df_merged.sort_values(by='Price', ignore_index=True)"
   ]
  },
  {
   "cell_type": "code",
   "execution_count": 10,
   "id": "1592cc4f",
   "metadata": {},
   "outputs": [],
   "source": [
    "df_merged.to_csv('merged_ep&gg.csv', index=False)"
   ]
  },
  {
   "cell_type": "code",
   "execution_count": null,
   "id": "530c7902",
   "metadata": {},
   "outputs": [],
   "source": []
  }
 ],
 "metadata": {
  "kernelspec": {
   "display_name": "Python 3 (ipykernel)",
   "language": "python",
   "name": "python3"
  },
  "language_info": {
   "codemirror_mode": {
    "name": "ipython",
    "version": 3
   },
   "file_extension": ".py",
   "mimetype": "text/x-python",
   "name": "python",
   "nbconvert_exporter": "python",
   "pygments_lexer": "ipython3",
   "version": "3.10.9"
  }
 },
 "nbformat": 4,
 "nbformat_minor": 5
}
