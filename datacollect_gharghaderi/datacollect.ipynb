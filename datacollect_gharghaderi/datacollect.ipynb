{
 "cells": [
  {
   "cell_type": "code",
   "execution_count": 1,
   "id": "2634018f",
   "metadata": {},
   "outputs": [],
   "source": [
    "from selenium import webdriver\n",
    "from selenium.webdriver.chrome.service import Service\n",
    "from time import sleep\n",
    "import time\n",
    "from selenium.webdriver.support.ui import WebDriverWait\n",
    "from selenium.webdriver.support import expected_conditions as EC\n",
    "from selenium.webdriver.common.by import By\n",
    "from selenium.webdriver.common.keys import Keys\n",
    "import csv"
   ]
  },
  {
   "cell_type": "code",
   "execution_count": 5,
   "id": "8c491441",
   "metadata": {},
   "outputs": [],
   "source": [
    "path = \"C:\\Program Files\\Google\\Chrome\\Applicationchromedriver.exe\"\n",
    "service = Service(executable_path=path)\n",
    "driver = webdriver.Chrome(service=service)\n",
    "driver.get('https://www.gharghaderi.com/house-for-sale/')\n",
    "driver.maximize_window()"
   ]
  },
  {
   "cell_type": "code",
   "execution_count": 19,
   "id": "9feeae13",
   "metadata": {},
   "outputs": [],
   "source": [
    "#press more listing button till end\n",
    "for i in range(1,300):\n",
    "    time.sleep(5)\n",
    "    more_button = driver.find_element(by=\"xpath\",value='/html/body/div/div/div/div/span/button')\n",
    "    more_button.click()\n",
    "    "
   ]
  },
  {
   "cell_type": "code",
   "execution_count": 9,
   "id": "e7fe3596",
   "metadata": {},
   "outputs": [],
   "source": [
    "house_details_link = driver.find_elements(by=\"xpath\",value='/html/body/div/div/div/div/a')"
   ]
  },
  {
   "cell_type": "code",
   "execution_count": 17,
   "id": "dc14c782",
   "metadata": {},
   "outputs": [],
   "source": [
    "#get house links\n",
    "list_of_house_links=[]\n",
    "for house in house_details_link:\n",
    "    house_link=house.get_property(\"href\")\n",
    "    list_of_house_links.append(house_link)\n",
    "    print(house_link)"
   ]
  },
  {
   "cell_type": "code",
   "execution_count": 15,
   "id": "86bafece",
   "metadata": {},
   "outputs": [],
   "source": [
    "#put house links in csv file\n",
    "\n",
    "with open('house_links_ghar.csv', mode='w', newline='') as file:\n",
    "    writer = csv.writer(file)\n",
    "    for link in list_of_house_links:\n",
    "        writer.writerow([link])"
   ]
  },
  {
   "cell_type": "code",
   "execution_count": 18,
   "id": "64ce4668",
   "metadata": {},
   "outputs": [],
   "source": [
    "## data sorting"
   ]
  },
  {
   "cell_type": "code",
   "execution_count": 6,
   "id": "c0c751d4",
   "metadata": {},
   "outputs": [],
   "source": [
    "with open('house_links_ghar.csv') as csv_file:\n",
    "    csv_reader = csv.reader(csv_file)\n",
    "    urls = [row[0] for row in csv_reader]"
   ]
  },
  {
   "cell_type": "code",
   "execution_count": 7,
   "id": "46a1735a",
   "metadata": {},
   "outputs": [
    {
     "name": "stdout",
     "output_type": "stream",
     "text": [
      "done\n"
     ]
    }
   ],
   "source": [
    "data_list=[]\n",
    "\n",
    "for url in urls:\n",
    "    try:\n",
    "        driver.get(url)\n",
    "        data_dict = {}\n",
    "        district = driver.find_element(By.CSS_SELECTOR, 'body > div.wrapper > div > div.subcontent > div.last-section > div:nth-child(12) > table > tbody > tr:nth-child(2) > td.test1')\n",
    "        address = driver.find_element(By.CSS_SELECTOR, 'body > div.wrapper > div > div.subcontent > div.last-section > div:nth-child(12) > table > tbody > tr:nth-child(4) > td.test1')\n",
    "        land = driver.find_element(By.CSS_SELECTOR, 'body > div.wrapper > div > div.subcontent > div.last-section > div:nth-child(14) > table > tbody > tr:nth-child(3) > td.test1')\n",
    "        road = driver.find_element(By.CSS_SELECTOR, 'body > div.wrapper > div > div.subcontent > div.last-section > div:nth-child(14) > table > tbody > tr:nth-child(5) > td.test1')\n",
    "        pricemon = driver.find_element(By.CSS_SELECTOR, 'body > div.wrapper > div > div.subcontent > div.last-section > div:nth-child(14) > table > tbody > tr:nth-child(1) > td.test1')\n",
    "        aa = pricemon.text\n",
    "        price = aa.strip(\"रु.\")\n",
    "\n",
    "        bedroom = driver.find_element(By.CSS_SELECTOR, 'body > div.wrapper > div > div.subcontent > div.last-section > div:nth-child(15) > table > tbody > tr:nth-child(2) > td.test1')\n",
    "        bathroom = driver.find_element(By.CSS_SELECTOR, 'body > div.wrapper > div > div.subcontent > div.last-section > div:nth-child(15) > table > tbody > tr:nth-child(3) > td.test1') \n",
    "        direction = driver.find_element(By.CSS_SELECTOR, 'body > div.wrapper > div > div.subcontent > div.last-section > div:nth-child(15) > table > tbody > tr:nth-child(1) > td.test1')\n",
    "        floor = driver.find_element(By.CSS_SELECTOR, 'body > div.wrapper > div > div.subcontent > div.last-section > div:nth-child(14) > table > tbody > tr:nth-child(4) > td.test1')\n",
    "\n",
    "        data_dict['Floors'] = floor.text\n",
    "        data_dict['Price'] = price\n",
    "        data_dict['City'] = district.text\n",
    "        data_dict['Address'] = address.text\n",
    "        data_dict['Road'] = road.text\n",
    "        data_dict['Land'] = land.text\n",
    "        data_dict['Bedroom'] = bedroom.text\n",
    "        data_dict['Bathroom'] = bathroom.text    \n",
    "        data_dict['Face'] = direction.text\n",
    "\n",
    "        data_dict['url']=url\n",
    "        # Print the dictionary\n",
    "        data_list.append(data_dict)\n",
    "    except:\n",
    "        continue\n",
    "\n",
    "print(\"done\")"
   ]
  },
  {
   "cell_type": "code",
   "execution_count": 1,
   "id": "8e93349d",
   "metadata": {},
   "outputs": [
    {
     "ename": "NameError",
     "evalue": "name 'data_list' is not defined",
     "output_type": "error",
     "traceback": [
      "\u001b[1;31m---------------------------------------------------------------------------\u001b[0m",
      "\u001b[1;31mNameError\u001b[0m                                 Traceback (most recent call last)",
      "Cell \u001b[1;32mIn[1], line 1\u001b[0m\n\u001b[1;32m----> 1\u001b[0m \u001b[38;5;28mprint\u001b[39m(\u001b[43mdata_list\u001b[49m)\n",
      "\u001b[1;31mNameError\u001b[0m: name 'data_list' is not defined"
     ]
    }
   ],
   "source": [
    "print(data_list)"
   ]
  },
  {
   "cell_type": "code",
   "execution_count": 8,
   "id": "de12b03a",
   "metadata": {},
   "outputs": [
    {
     "data": {
      "text/html": [
       "<div>\n",
       "<style scoped>\n",
       "    .dataframe tbody tr th:only-of-type {\n",
       "        vertical-align: middle;\n",
       "    }\n",
       "\n",
       "    .dataframe tbody tr th {\n",
       "        vertical-align: top;\n",
       "    }\n",
       "\n",
       "    .dataframe thead th {\n",
       "        text-align: right;\n",
       "    }\n",
       "</style>\n",
       "<table border=\"1\" class=\"dataframe\">\n",
       "  <thead>\n",
       "    <tr style=\"text-align: right;\">\n",
       "      <th></th>\n",
       "      <th>Floors</th>\n",
       "      <th>Price</th>\n",
       "      <th>City</th>\n",
       "      <th>Address</th>\n",
       "      <th>Road</th>\n",
       "      <th>Land</th>\n",
       "      <th>Bedroom</th>\n",
       "      <th>Bathroom</th>\n",
       "      <th>Face</th>\n",
       "      <th>url</th>\n",
       "    </tr>\n",
       "  </thead>\n",
       "  <tbody>\n",
       "    <tr>\n",
       "      <th>682</th>\n",
       "      <td>2.5</td>\n",
       "      <td>2,20,00,000</td>\n",
       "      <td>Lalitpur</td>\n",
       "      <td>Harisiddhi</td>\n",
       "      <td>20 ft</td>\n",
       "      <td>4</td>\n",
       "      <td>5+</td>\n",
       "      <td>5+</td>\n",
       "      <td>City</td>\n",
       "      <td>https://www.gharghaderi.com/house/391-Brand-ne...</td>\n",
       "    </tr>\n",
       "    <tr>\n",
       "      <th>683</th>\n",
       "      <td>NaN</td>\n",
       "      <td>1,25,00,000</td>\n",
       "      <td>Kathmandu</td>\n",
       "      <td>Kapan</td>\n",
       "      <td>8 ft</td>\n",
       "      <td>2.5 aana</td>\n",
       "      <td>4</td>\n",
       "      <td>3</td>\n",
       "      <td>NaN</td>\n",
       "      <td>https://www.gharghaderi.com/house/385-House-fo...</td>\n",
       "    </tr>\n",
       "    <tr>\n",
       "      <th>684</th>\n",
       "      <td>2.5</td>\n",
       "      <td>1,72,00,000</td>\n",
       "      <td>Kathmandu</td>\n",
       "      <td>Sukedhara</td>\n",
       "      <td>13 ft</td>\n",
       "      <td>0-3-0-0</td>\n",
       "      <td>NaN</td>\n",
       "      <td>NaN</td>\n",
       "      <td>south west</td>\n",
       "      <td>https://www.gharghaderi.com/house/371-House-fo...</td>\n",
       "    </tr>\n",
       "    <tr>\n",
       "      <th>685</th>\n",
       "      <td>2.5</td>\n",
       "      <td>2,35,00,000</td>\n",
       "      <td>Kathmandu</td>\n",
       "      <td>Samakhusi</td>\n",
       "      <td>12 ft</td>\n",
       "      <td>4 aana</td>\n",
       "      <td>5+</td>\n",
       "      <td>4</td>\n",
       "      <td>NaN</td>\n",
       "      <td>https://www.gharghaderi.com/house/359-Semi-fur...</td>\n",
       "    </tr>\n",
       "    <tr>\n",
       "      <th>686</th>\n",
       "      <td>1</td>\n",
       "      <td>1,95,00,000</td>\n",
       "      <td>Kathmandu</td>\n",
       "      <td>Kadaghari</td>\n",
       "      <td>12 ft</td>\n",
       "      <td>3.2.2.</td>\n",
       "      <td>NaN</td>\n",
       "      <td>NaN</td>\n",
       "      <td>North</td>\n",
       "      <td>https://www.gharghaderi.com/house/357-Ghar-bik...</td>\n",
       "    </tr>\n",
       "  </tbody>\n",
       "</table>\n",
       "</div>"
      ],
      "text/plain": [
       "    Floors         Price       City     Address   Road      Land Bedroom  \\\n",
       "682    2.5   2,20,00,000   Lalitpur  Harisiddhi  20 ft         4      5+   \n",
       "683    NaN   1,25,00,000  Kathmandu       Kapan   8 ft  2.5 aana       4   \n",
       "684    2.5   1,72,00,000  Kathmandu   Sukedhara  13 ft   0-3-0-0     NaN   \n",
       "685    2.5   2,35,00,000  Kathmandu   Samakhusi  12 ft    4 aana      5+   \n",
       "686      1   1,95,00,000  Kathmandu   Kadaghari  12 ft    3.2.2.     NaN   \n",
       "\n",
       "    Bathroom        Face                                                url  \n",
       "682       5+        City  https://www.gharghaderi.com/house/391-Brand-ne...  \n",
       "683        3         NaN  https://www.gharghaderi.com/house/385-House-fo...  \n",
       "684      NaN  south west  https://www.gharghaderi.com/house/371-House-fo...  \n",
       "685        4         NaN  https://www.gharghaderi.com/house/359-Semi-fur...  \n",
       "686      NaN       North  https://www.gharghaderi.com/house/357-Ghar-bik...  "
      ]
     },
     "execution_count": 8,
     "metadata": {},
     "output_type": "execute_result"
    }
   ],
   "source": [
    "import pandas as pd\n",
    "\n",
    "df = pd.DataFrame(data_list)\n",
    "df.to_csv('houses.csv',index=False)\n",
    "df_input = pd.read_csv('houses.csv')\n",
    "df_input.tail()"
   ]
  },
  {
   "cell_type": "code",
   "execution_count": null,
   "id": "0e53f8a5",
   "metadata": {},
   "outputs": [],
   "source": []
  }
 ],
 "metadata": {
  "kernelspec": {
   "display_name": "Python 3 (ipykernel)",
   "language": "python",
   "name": "python3"
  },
  "language_info": {
   "codemirror_mode": {
    "name": "ipython",
    "version": 3
   },
   "file_extension": ".py",
   "mimetype": "text/x-python",
   "name": "python",
   "nbconvert_exporter": "python",
   "pygments_lexer": "ipython3",
   "version": "3.10.9"
  }
 },
 "nbformat": 4,
 "nbformat_minor": 5
}
