{
 "cells": [
  {
   "cell_type": "code",
   "execution_count": 1,
   "id": "4785ee71",
   "metadata": {},
   "outputs": [],
   "source": [
    "import pandas as pd\n",
    "\n",
    "df1 = pd.read_csv('cleandataeprop.csv')\n",
    "df2 = pd.read_csv('clean_housess.csv')"
   ]
  },
  {
   "cell_type": "code",
   "execution_count": 2,
   "id": "382644dc",
   "metadata": {},
   "outputs": [],
   "source": [
    "df_merged = pd.concat([df1, df2], axis=0, ignore_index=True)"
   ]
  },
  {
   "cell_type": "code",
   "execution_count": 4,
   "id": "1c6aedad",
   "metadata": {},
   "outputs": [],
   "source": [
    "\n",
    "df_merged = df_merged.sort_values(by='price', ignore_index=True)"
   ]
  },
  {
   "cell_type": "code",
   "execution_count": 5,
   "id": "935d0fd8",
   "metadata": {},
   "outputs": [],
   "source": [
    "df_merged.to_csv('merged2.csv', index=False)"
   ]
  },
  {
   "cell_type": "code",
   "execution_count": null,
   "id": "a7c87846",
   "metadata": {},
   "outputs": [],
   "source": []
  }
 ],
 "metadata": {
  "kernelspec": {
   "display_name": "Python 3 (ipykernel)",
   "language": "python",
   "name": "python3"
  },
  "language_info": {
   "codemirror_mode": {
    "name": "ipython",
    "version": 3
   },
   "file_extension": ".py",
   "mimetype": "text/x-python",
   "name": "python",
   "nbconvert_exporter": "python",
   "pygments_lexer": "ipython3",
   "version": "3.10.9"
  }
 },
 "nbformat": 4,
 "nbformat_minor": 5
}
