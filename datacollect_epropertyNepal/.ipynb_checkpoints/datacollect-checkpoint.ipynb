{
 "cells": [
  {
   "cell_type": "code",
   "execution_count": 2,
   "id": "45b2d3da",
   "metadata": {},
   "outputs": [],
   "source": [
    "from selenium import webdriver\n",
    "from selenium.webdriver.chrome.service import Service\n",
    "from time import sleep\n",
    "import time\n",
    "from selenium.webdriver.support.ui import WebDriverWait\n",
    "from selenium.webdriver.support import expected_conditions as EC\n",
    "from selenium.webdriver.common.by import By\n",
    "from selenium.webdriver.common.keys import Keys\n",
    "import csv\n",
    "import pandas as pd"
   ]
  },
  {
   "cell_type": "code",
   "execution_count": 3,
   "id": "ffed3eb2",
   "metadata": {},
   "outputs": [],
   "source": [
    "path = \"C:\\Program Files\\Google\\Chrome\\Applicationchromedriver.exe\"\n",
    "service = Service(executable_path=path)\n",
    "driver = webdriver.Chrome(service=service)\n",
    "driver.get('https://epropertynepal.com/properties/2932-2-5-storey-house-for-sale-at-pepsicola-kadaghari')\n",
    "driver.maximize_window()"
   ]
  },
  {
   "cell_type": "code",
   "execution_count": 32,
   "id": "fdc18e20",
   "metadata": {},
   "outputs": [],
   "source": [
    "#collect house links\n",
    "count = 0\n",
    "list_of_house_links=[]\n",
    "for i in range(1,49):\n",
    "    house_details_link = driver.find_elements(by=\"xpath\",value='/html/body/section[4]/div/div/div/div/a')\n",
    "    for house in house_details_link:\n",
    "        count+=1\n",
    "        house_link=house.get_property(\"href\")\n",
    "        list_of_house_links.append(house_link)\n",
    "        print(house_link)\n",
    "    next_button = driver.find_element(By.CSS_SELECTOR, value = 'body > section.section-property-list.section--list-page > div > div.row.row--pagination > nav > ul > li.next')\n",
    "    next_button.click()\n",
    "print(count)"
   ]
  },
  {
   "cell_type": "code",
   "execution_count": 138,
   "id": "767aae67",
   "metadata": {},
   "outputs": [],
   "source": [
    "#put house links in csv file\n",
    "\n",
    "with open('house_links_epropertyy.csv', mode='w', newline='') as file:\n",
    "    writer = csv.writer(file)\n",
    "    for link in list_of_house_links:\n",
    "        writer.writerow([link])"
   ]
  },
  {
   "cell_type": "code",
   "execution_count": 154,
   "id": "599baa2c",
   "metadata": {},
   "outputs": [],
   "source": [
    "#collect house datas"
   ]
  },
  {
   "cell_type": "code",
   "execution_count": 5,
   "id": "2e2ec3e7",
   "metadata": {},
   "outputs": [],
   "source": [
    "with open('house_links_epropertyy.csv') as csv_file:\n",
    "    csv_reader = csv.reader(csv_file)\n",
    "    urls = [row[0] for row in csv_reader]\n",
    "urls[1]\n",
    "driver.get(urls[0])"
   ]
  },
  {
   "cell_type": "code",
   "execution_count": null,
   "id": "a739f3bc",
   "metadata": {},
   "outputs": [],
   "source": [
    "# data_list = []\n",
    "start_time = time.time()\n",
    "\n",
    "for url in urls:\n",
    "    driver.get(url)\n",
    "    data_dict = {}\n",
    "    try:\n",
    "#         try:\n",
    "#             title = driver.find_element(By.CSS_SELECTOR, value='body > section.section-property-detail > div > div.row.row--property-header > h1 > span:nth-child(1)')\n",
    "#             data_dict['title'] = title.text\n",
    "#         except: pass    \n",
    "        \n",
    "#         try:\n",
    "#             district = driver.find_element(By.CSS_SELECTOR, value='#property-description > div.property-detail-item.property-address > ul > li:nth-child(4)')\n",
    "#             data_dict['district'] = district.text\n",
    "#         except: pass\n",
    "        \n",
    "#         try:\n",
    "#             Municipality = driver.find_element(By.CSS_SELECTOR, value='#property-description > div.property-detail-item.property-address > ul > li:nth-child(3)')\n",
    "#             data_dict['Municipality'] = Municipality.text\n",
    "            \n",
    "#         except:pass\n",
    "        \n",
    "#         try:\n",
    "#             vdc = driver.find_element(By.CSS_SELECTOR, value='#property-description > div.property-detail-item.property-address > ul > li:nth-child(2)')\n",
    "#             data_dict['vdc'] = vdc.text\n",
    "#         except:pass        \n",
    "\n",
    "#         try:\n",
    "#             land = driver.find_element(By.CSS_SELECTOR, value='#property-description > ul > li:nth-child(3)')\n",
    "#             data_dict['landsize'] = land.text\n",
    "#         except: pass\n",
    "\n",
    "        try:\n",
    "            pricemon = driver.find_element(By.CSS_SELECTOR, value='#property-description > div.property-detail-item.property-additional-detail > ul > li:nth-child(5)')\n",
    "            data_dict['price'] = pricemon.text\n",
    "        except: pass\n",
    "\n",
    "#         try:\n",
    "#             bedroom = driver.find_element(By.CSS_SELECTOR, value='#property-description > ul > li:nth-child(1)')\n",
    "#             data_dict['bedroom'] = bedroom.text\n",
    "#         except: pass\n",
    "\n",
    "#         try:    \n",
    "#             bathroom = driver.find_element(By.CSS_SELECTOR, value='#property-description > ul > li:nth-child(2)')\n",
    "#             data_dict['bathroom'] = bathroom.text    \n",
    "#         except: pass\n",
    "\n",
    "#         try:    \n",
    "#             builty = driver.find_element(By.CSS_SELECTOR, value='#property-description > ul > li:nth-child(4)')\n",
    "#             data_dict['builtyear'] = builty.text\n",
    "#         except: pass\n",
    "\n",
    "#         try:    \n",
    "#             parking = driver.find_element(By.CSS_SELECTOR, value='#property-description > ul > li:nth-child(5)')\n",
    "#             data_dict['parking'] = parking.text\n",
    "#         except: pass\n",
    "\n",
    "#         try:    \n",
    "#             direction = driver.find_element(By.CSS_SELECTOR, value='#property-description > ul > li:nth-child(7)')\n",
    "#             data_dict['direction'] = direction.text\n",
    "#         except: pass\n",
    "\n",
    "#         data_dict['url']=url\n",
    "        data_list.append(data_dict)\n",
    "    except: pass\n",
    "\n",
    "end_time = time.time()\n",
    "execution_time = end_time - start_time\n",
    "print(\"done\")\n",
    "print(f\"Execution time: {execution_time}\")"
   ]
  },
  {
   "cell_type": "code",
   "execution_count": null,
   "id": "f6a23a37",
   "metadata": {},
   "outputs": [],
   "source": [
    "df = pd.DataFrame(data_list)\n",
    "df.to_csv('eprophouse.csv',index=False)\n",
    "df_input = pd.read_csv('eprophouse.csv')\n",
    "df_input.tail()"
   ]
  },
  {
   "cell_type": "code",
   "execution_count": 71,
   "id": "dd8164e2",
   "metadata": {},
   "outputs": [],
   "source": [
    "#remove land and rent elements\n",
    "\n",
    "with open('eprophouse1.csv', 'r', newline='') as file:\n",
    "    reader = csv.DictReader(file)\n",
    "    rows = list(reader)  \n",
    "\n",
    "rows = [row for row in rows if 'land' not in row['title'].lower()]\n",
    "\n",
    "with open('eprophouse2.csv', 'w', newline='') as file:\n",
    "    writer = csv.DictWriter(file, fieldnames=reader.fieldnames)\n",
    "    writer.writeheader()  \n",
    "    writer.writerows(rows)"
   ]
  },
  {
   "cell_type": "code",
   "execution_count": 145,
   "id": "80f80a26",
   "metadata": {},
   "outputs": [],
   "source": [
    "script = \"var element = document.querySelector('body > div > div > div > div > svg > path'); if (element) element.parentNode.removeChild(element);\"\n",
    "driver.execute_script(script)"
   ]
  },
  {
   "cell_type": "code",
   "execution_count": 1,
   "id": "48d11b36",
   "metadata": {},
   "outputs": [
    {
     "ename": "NameError",
     "evalue": "name 'data_list' is not defined",
     "output_type": "error",
     "traceback": [
      "\u001b[1;31m---------------------------------------------------------------------------\u001b[0m",
      "\u001b[1;31mNameError\u001b[0m                                 Traceback (most recent call last)",
      "Cell \u001b[1;32mIn[1], line 1\u001b[0m\n\u001b[1;32m----> 1\u001b[0m \u001b[43mdata_list\u001b[49m\n",
      "\u001b[1;31mNameError\u001b[0m: name 'data_list' is not defined"
     ]
    }
   ],
   "source": [
    "data_list"
   ]
  },
  {
   "cell_type": "code",
   "execution_count": 7,
   "id": "36d007fc",
   "metadata": {
    "scrolled": true
   },
   "outputs": [
    {
     "ename": "TimeoutException",
     "evalue": "Message: \n",
     "output_type": "error",
     "traceback": [
      "\u001b[1;31m---------------------------------------------------------------------------\u001b[0m",
      "\u001b[1;31mTimeoutException\u001b[0m                          Traceback (most recent call last)",
      "Cell \u001b[1;32mIn[7], line 2\u001b[0m\n\u001b[0;32m      1\u001b[0m driver\u001b[38;5;241m.\u001b[39mget(urls[\u001b[38;5;241m0\u001b[39m])\n\u001b[1;32m----> 2\u001b[0m \u001b[43mWebDriverWait\u001b[49m\u001b[43m(\u001b[49m\u001b[43mdriver\u001b[49m\u001b[43m,\u001b[49m\u001b[43m \u001b[49m\u001b[38;5;241;43m20\u001b[39;49m\u001b[43m)\u001b[49m\u001b[38;5;241;43m.\u001b[39;49m\u001b[43muntil\u001b[49m\u001b[43m(\u001b[49m\u001b[43mEC\u001b[49m\u001b[38;5;241;43m.\u001b[39;49m\u001b[43melement_to_be_clickable\u001b[49m\u001b[43m(\u001b[49m\u001b[43m(\u001b[49m\u001b[43mBy\u001b[49m\u001b[38;5;241;43m.\u001b[39;49m\u001b[43mCSS_SELECTOR\u001b[49m\u001b[43m,\u001b[49m\u001b[43m \u001b[49m\u001b[38;5;124;43m\"\u001b[39;49m\u001b[38;5;124;43mbody > div > div > div > div\u001b[39;49m\u001b[38;5;124;43m\"\u001b[39;49m\u001b[43m)\u001b[49m\u001b[43m)\u001b[49m\u001b[43m)\u001b[49m\u001b[38;5;241m.\u001b[39mclick()\n\u001b[0;32m      3\u001b[0m driver\u001b[38;5;241m.\u001b[39mfind_element(By\u001b[38;5;241m.\u001b[39mCSS_SELECTOR, \u001b[38;5;124m\"\u001b[39m\u001b[38;5;124mbody > div > div > div > div\u001b[39m\u001b[38;5;124m\"\u001b[39m)\u001b[38;5;241m.\u001b[39mclick()\n",
      "File \u001b[1;32m~\\anaconda3\\lib\\site-packages\\selenium\\webdriver\\support\\wait.py:95\u001b[0m, in \u001b[0;36mWebDriverWait.until\u001b[1;34m(self, method, message)\u001b[0m\n\u001b[0;32m     93\u001b[0m     \u001b[38;5;28;01mif\u001b[39;00m time\u001b[38;5;241m.\u001b[39mmonotonic() \u001b[38;5;241m>\u001b[39m end_time:\n\u001b[0;32m     94\u001b[0m         \u001b[38;5;28;01mbreak\u001b[39;00m\n\u001b[1;32m---> 95\u001b[0m \u001b[38;5;28;01mraise\u001b[39;00m TimeoutException(message, screen, stacktrace)\n",
      "\u001b[1;31mTimeoutException\u001b[0m: Message: \n"
     ]
    }
   ],
   "source": [
    "driver.get(urls[0])\n",
    "WebDriverWait(driver, 10).until(EC.visibility_of_element_located((By.CSS_SELECTOR, \"body > div > div > div > div\"))).click()\n",
    "\n",
    "# WebDriverWait(driver, 20).until(EC.element_to_be_clickable((By.CSS_SELECTOR, \"body > div > div > div > div\"))).click()\n",
    "driver.find_element(By.CSS_SELECTOR, \"body > div > div > div > div\").click()"
   ]
  },
  {
   "cell_type": "code",
   "execution_count": null,
   "id": "cb8f4c5d",
   "metadata": {},
   "outputs": [],
   "source": []
  }
 ],
 "metadata": {
  "kernelspec": {
   "display_name": "Python 3 (ipykernel)",
   "language": "python",
   "name": "python3"
  },
  "language_info": {
   "codemirror_mode": {
    "name": "ipython",
    "version": 3
   },
   "file_extension": ".py",
   "mimetype": "text/x-python",
   "name": "python",
   "nbconvert_exporter": "python",
   "pygments_lexer": "ipython3",
   "version": "3.10.9"
  }
 },
 "nbformat": 4,
 "nbformat_minor": 5
}
