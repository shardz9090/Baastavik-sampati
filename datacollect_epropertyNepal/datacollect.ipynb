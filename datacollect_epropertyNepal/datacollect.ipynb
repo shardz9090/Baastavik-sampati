{
 "cells": [
  {
   "cell_type": "code",
   "execution_count": 2,
   "id": "45b2d3da",
   "metadata": {},
   "outputs": [],
   "source": [
    "from selenium import webdriver\n",
    "from selenium.webdriver.chrome.service import Service\n",
    "from time import sleep\n",
    "import time\n",
    "from selenium.webdriver.support.ui import WebDriverWait\n",
    "from selenium.webdriver.support import expected_conditions as EC\n",
    "from selenium.webdriver.common.by import By\n",
    "from selenium.webdriver.common.keys import Keys\n",
    "import csv\n",
    "import pandas as pd"
   ]
  },
  {
   "cell_type": "code",
   "execution_count": 17,
   "id": "ffed3eb2",
   "metadata": {},
   "outputs": [],
   "source": [
    "path = \"C:\\Program Files\\Google\\Chrome\\Applicationchromedriver.exe\"\n",
    "service = Service(executable_path=path)\n",
    "driver = webdriver.Chrome(service=service)\n",
    "driver.get('https://epropertynepal.com/properties/2932-2-5-storey-house-for-sale-at-pepsicola-kadaghari')\n",
    "driver.maximize_window()"
   ]
  },
  {
   "cell_type": "code",
   "execution_count": 32,
   "id": "fdc18e20",
   "metadata": {},
   "outputs": [],
   "source": [
    "#collect house links\n",
    "count = 0\n",
    "list_of_house_links=[]\n",
    "for i in range(1,49):\n",
    "    house_details_link = driver.find_elements(by=\"xpath\",value='/html/body/section[4]/div/div/div/div/a')\n",
    "    for house in house_details_link:\n",
    "        count+=1\n",
    "        house_link=house.get_property(\"href\")\n",
    "        list_of_house_links.append(house_link)\n",
    "        print(house_link)\n",
    "    next_button = driver.find_element(By.CSS_SELECTOR, value = 'body > section.section-property-list.section--list-page > div > div.row.row--pagination > nav > ul > li.next')\n",
    "    next_button.click()\n",
    "print(count)"
   ]
  },
  {
   "cell_type": "code",
   "execution_count": 138,
   "id": "767aae67",
   "metadata": {},
   "outputs": [],
   "source": [
    "#put house links in csv file\n",
    "\n",
    "with open('house_links_epropertyy.csv', mode='w', newline='') as file:\n",
    "    writer = csv.writer(file)\n",
    "    for link in list_of_house_links:\n",
    "        writer.writerow([link])"
   ]
  },
  {
   "cell_type": "code",
   "execution_count": 154,
   "id": "599baa2c",
   "metadata": {},
   "outputs": [],
   "source": [
    "#collect house datas"
   ]
  },
  {
   "cell_type": "code",
   "execution_count": 27,
   "id": "2e2ec3e7",
   "metadata": {},
   "outputs": [],
   "source": [
    "with open('house_links_epropertyy.csv') as csv_file:\n",
    "    csv_reader = csv.reader(csv_file)\n",
    "    urls = [row[0] for row in csv_reader]\n",
    "urls[1]\n",
    "driver.get(urls[0])"
   ]
  },
  {
   "cell_type": "code",
   "execution_count": 28,
   "id": "a739f3bc",
   "metadata": {},
   "outputs": [
    {
     "name": "stdout",
     "output_type": "stream",
     "text": [
      "done\n",
      "Execution time: 420.9433009624481\n"
     ]
    }
   ],
   "source": [
    "data_list = []\n",
    "start_time = time.time()\n",
    "\n",
    "for url in urls:\n",
    "    driver.get(url)\n",
    "    data_dict = {}\n",
    "    try:\n",
    "\n",
    "#         try:\n",
    "#             title = driver.find_element(By.CSS_SELECTOR, value='body > section.section-property-detail > div > div.row.row--property-header > h1 > span:nth-child(1)')\n",
    "#             data_dict['title'] = title.text\n",
    "#         except: pass    \n",
    "        \n",
    "#         try:\n",
    "#             district = driver.find_element(By.CSS_SELECTOR, value='#property-description > div.property-detail-item.property-address > ul > li:nth-child(4)')\n",
    "#             data_dict['district'] = district.text\n",
    "#         except: pass\n",
    "        \n",
    "#         try:\n",
    "#             Municipality = driver.find_element(By.CSS_SELECTOR, value='#property-description > div.property-detail-item.property-address > ul > li:nth-child(3)')\n",
    "#             data_dict['Municipality'] = Municipality.text\n",
    "            \n",
    "#         except:pass\n",
    "        \n",
    "#         try:\n",
    "#             vdc = driver.find_element(By.CSS_SELECTOR, value='#property-description > div.property-detail-item.property-address > ul > li:nth-child(2)')\n",
    "#             data_dict['vdc'] = vdc.text\n",
    "#         except:pass        \n",
    "\n",
    "#         try:\n",
    "#             land = driver.find_element(By.CSS_SELECTOR, value='#property-description > ul > li:nth-child(3)')\n",
    "#             data_dict['landsize'] = land.text\n",
    "#         except: pass\n",
    "\n",
    "        try:\n",
    "            pricemon = driver.find_element(By.CSS_SELECTOR, value='#property-description > div.property-detail-item.property-additional-detail > ul > li:nth-child(5)')\n",
    "            data_dict['price'] = pricemon.text\n",
    "        except: pass\n",
    "\n",
    "#         try:\n",
    "#             bedroom = driver.find_element(By.CSS_SELECTOR, value='#property-description > ul > li:nth-child(1)')\n",
    "#             data_dict['bedroom'] = bedroom.text\n",
    "#         except: pass\n",
    "\n",
    "#         try:    \n",
    "#             bathroom = driver.find_element(By.CSS_SELECTOR, value='#property-description > ul > li:nth-child(2)')\n",
    "#             data_dict['bathroom'] = bathroom.text    \n",
    "#         except: pass\n",
    "\n",
    "#         try:    \n",
    "#             builty = driver.find_element(By.CSS_SELECTOR, value='#property-description > ul > li:nth-child(4)')\n",
    "#             data_dict['builtyear'] = builty.text\n",
    "#         except: pass\n",
    "\n",
    "#         try:    \n",
    "#             parking = driver.find_element(By.CSS_SELECTOR, value='#property-description > ul > li:nth-child(5)')\n",
    "#             data_dict['parking'] = parking.text\n",
    "#         except: pass\n",
    "\n",
    "#         try:    \n",
    "#             direction = driver.find_element(By.CSS_SELECTOR, value='#property-description > ul > li:nth-child(7)')\n",
    "#             data_dict['direction'] = direction.text\n",
    "#         except: pass\n",
    "\n",
    "#         data_dict['url']=url\n",
    "        data_list.append(data_dict)\n",
    "    except: pass\n",
    "\n",
    "end_time = time.time()\n",
    "execution_time = end_time - start_time\n",
    "print(\"done\")\n",
    "print(f\"Execution time: {execution_time}\")"
   ]
  },
  {
   "cell_type": "code",
   "execution_count": 30,
   "id": "f6a23a37",
   "metadata": {},
   "outputs": [
    {
     "data": {
      "text/html": [
       "<div>\n",
       "<style scoped>\n",
       "    .dataframe tbody tr th:only-of-type {\n",
       "        vertical-align: middle;\n",
       "    }\n",
       "\n",
       "    .dataframe tbody tr th {\n",
       "        vertical-align: top;\n",
       "    }\n",
       "\n",
       "    .dataframe thead th {\n",
       "        text-align: right;\n",
       "    }\n",
       "</style>\n",
       "<table border=\"1\" class=\"dataframe\">\n",
       "  <thead>\n",
       "    <tr style=\"text-align: right;\">\n",
       "      <th></th>\n",
       "      <th>price</th>\n",
       "    </tr>\n",
       "  </thead>\n",
       "  <tbody>\n",
       "    <tr>\n",
       "      <th>220</th>\n",
       "      <td>Total price of the property : 7,30,00,000</td>\n",
       "    </tr>\n",
       "    <tr>\n",
       "      <th>221</th>\n",
       "      <td>Posted on: 20 April 2019</td>\n",
       "    </tr>\n",
       "    <tr>\n",
       "      <th>222</th>\n",
       "      <td>Building Age : 10 - 20 Years</td>\n",
       "    </tr>\n",
       "    <tr>\n",
       "      <th>223</th>\n",
       "      <td>Posted on: 07 August 2019</td>\n",
       "    </tr>\n",
       "    <tr>\n",
       "      <th>224</th>\n",
       "      <td>Posted on: 21 July 2022</td>\n",
       "    </tr>\n",
       "  </tbody>\n",
       "</table>\n",
       "</div>"
      ],
      "text/plain": [
       "                                         price\n",
       "220  Total price of the property : 7,30,00,000\n",
       "221                   Posted on: 20 April 2019\n",
       "222               Building Age : 10 - 20 Years\n",
       "223                  Posted on: 07 August 2019\n",
       "224                    Posted on: 21 July 2022"
      ]
     },
     "execution_count": 30,
     "metadata": {},
     "output_type": "execute_result"
    }
   ],
   "source": [
    "df = pd.DataFrame(data_list)\n",
    "df.to_csv('eprophouse.csv',index=False)\n",
    "df_input = pd.read_csv('eprophouse.csv')\n",
    "df_input.tail()"
   ]
  },
  {
   "cell_type": "code",
   "execution_count": 71,
   "id": "dd8164e2",
   "metadata": {},
   "outputs": [],
   "source": [
    "#remove land and rent elements\n",
    "\n",
    "with open('eprophouse1.csv', 'r', newline='') as file:\n",
    "    reader = csv.DictReader(file)\n",
    "    rows = list(reader)  \n",
    "\n",
    "rows = [row for row in rows if 'land' not in row['title'].lower()]\n",
    "\n",
    "with open('eprophouse2.csv', 'w', newline='') as file:\n",
    "    writer = csv.DictWriter(file, fieldnames=reader.fieldnames)\n",
    "    writer.writeheader()  \n",
    "    writer.writerows(rows)"
   ]
  },
  {
   "cell_type": "code",
   "execution_count": 9,
   "id": "80f80a26",
   "metadata": {},
   "outputs": [],
   "source": [
    "script = \"var element = document.querySelector('body > div > div > div > div > svg > path'); if (element) element.parentNode.removeChild(element);\"\n",
    "driver.execute_script(script)"
   ]
  },
  {
   "cell_type": "code",
   "execution_count": 1,
   "id": "48d11b36",
   "metadata": {},
   "outputs": [
    {
     "ename": "NameError",
     "evalue": "name 'data_list' is not defined",
     "output_type": "error",
     "traceback": [
      "\u001b[1;31m---------------------------------------------------------------------------\u001b[0m",
      "\u001b[1;31mNameError\u001b[0m                                 Traceback (most recent call last)",
      "Cell \u001b[1;32mIn[1], line 1\u001b[0m\n\u001b[1;32m----> 1\u001b[0m \u001b[43mdata_list\u001b[49m\n",
      "\u001b[1;31mNameError\u001b[0m: name 'data_list' is not defined"
     ]
    }
   ],
   "source": [
    "data_list"
   ]
  },
  {
   "cell_type": "code",
   "execution_count": 8,
   "id": "36d007fc",
   "metadata": {
    "scrolled": true
   },
   "outputs": [
    {
     "ename": "TimeoutException",
     "evalue": "Message: \n",
     "output_type": "error",
     "traceback": [
      "\u001b[1;31m---------------------------------------------------------------------------\u001b[0m",
      "\u001b[1;31mTimeoutException\u001b[0m                          Traceback (most recent call last)",
      "Cell \u001b[1;32mIn[8], line 2\u001b[0m\n\u001b[0;32m      1\u001b[0m driver\u001b[38;5;241m.\u001b[39mget(urls[\u001b[38;5;241m0\u001b[39m])\n\u001b[1;32m----> 2\u001b[0m \u001b[43mWebDriverWait\u001b[49m\u001b[43m(\u001b[49m\u001b[43mdriver\u001b[49m\u001b[43m,\u001b[49m\u001b[43m \u001b[49m\u001b[38;5;241;43m10\u001b[39;49m\u001b[43m)\u001b[49m\u001b[38;5;241;43m.\u001b[39;49m\u001b[43muntil\u001b[49m\u001b[43m(\u001b[49m\u001b[43mEC\u001b[49m\u001b[38;5;241;43m.\u001b[39;49m\u001b[43mvisibility_of_element_located\u001b[49m\u001b[43m(\u001b[49m\u001b[43m(\u001b[49m\u001b[43mBy\u001b[49m\u001b[38;5;241;43m.\u001b[39;49m\u001b[43mCSS_SELECTOR\u001b[49m\u001b[43m,\u001b[49m\u001b[43m \u001b[49m\u001b[38;5;124;43m\"\u001b[39;49m\u001b[38;5;124;43mbody > div > div > div > div\u001b[39;49m\u001b[38;5;124;43m\"\u001b[39;49m\u001b[43m)\u001b[49m\u001b[43m)\u001b[49m\u001b[43m)\u001b[49m\u001b[38;5;241m.\u001b[39mclick()\n\u001b[0;32m      4\u001b[0m \u001b[38;5;66;03m# WebDriverWait(driver, 20).until(EC.element_to_be_clickable((By.CSS_SELECTOR, \"body > div > div > div > div\"))).click()\u001b[39;00m\n\u001b[0;32m      5\u001b[0m driver\u001b[38;5;241m.\u001b[39mfind_element(By\u001b[38;5;241m.\u001b[39mCSS_SELECTOR, \u001b[38;5;124m\"\u001b[39m\u001b[38;5;124mbody > div > div > div > div\u001b[39m\u001b[38;5;124m\"\u001b[39m)\u001b[38;5;241m.\u001b[39mclick()\n",
      "File \u001b[1;32m~\\anaconda3\\lib\\site-packages\\selenium\\webdriver\\support\\wait.py:95\u001b[0m, in \u001b[0;36mWebDriverWait.until\u001b[1;34m(self, method, message)\u001b[0m\n\u001b[0;32m     93\u001b[0m     \u001b[38;5;28;01mif\u001b[39;00m time\u001b[38;5;241m.\u001b[39mmonotonic() \u001b[38;5;241m>\u001b[39m end_time:\n\u001b[0;32m     94\u001b[0m         \u001b[38;5;28;01mbreak\u001b[39;00m\n\u001b[1;32m---> 95\u001b[0m \u001b[38;5;28;01mraise\u001b[39;00m TimeoutException(message, screen, stacktrace)\n",
      "\u001b[1;31mTimeoutException\u001b[0m: Message: \n"
     ]
    }
   ],
   "source": [
    "driver.get(urls[0])\n",
    "WebDriverWait(driver, 10).until(EC.visibility_of_element_located((By.CSS_SELECTOR, \"body > div > div > div > div\"))).click()\n",
    "\n",
    "# WebDriverWait(driver, 20).until(EC.element_to_be_clickable((By.CSS_SELECTOR, \"body > div > div > div > div\"))).click()\n",
    "driver.find_element(By.CSS_SELECTOR, \"body > div > div > div > div\").click()"
   ]
  },
  {
   "cell_type": "code",
   "execution_count": 10,
   "id": "3104bae2",
   "metadata": {},
   "outputs": [
    {
     "ename": "SyntaxError",
     "evalue": "invalid syntax (1035285677.py, line 1)",
     "output_type": "error",
     "traceback": [
      "\u001b[1;36m  Cell \u001b[1;32mIn[10], line 1\u001b[1;36m\u001b[0m\n\u001b[1;33m    var fbRootElement = document.getElementById('fb-root');\u001b[0m\n\u001b[1;37m        ^\u001b[0m\n\u001b[1;31mSyntaxError\u001b[0m\u001b[1;31m:\u001b[0m invalid syntax\n"
     ]
    }
   ],
   "source": [
    "var fbRootElement = document.getElementById('fb-root');\n",
    "if (fbRootElement) {\n",
    "    fbRootElement.parentNode.removeChild(fbRootElement);\n",
    "}"
   ]
  },
  {
   "cell_type": "code",
   "execution_count": 12,
   "id": "69fe5d9c",
   "metadata": {},
   "outputs": [],
   "source": [
    "# Wait for the element to be present\n",
    "fb_root_element = driver.find_element(\"id\", \"fb-root\")\n",
    "\n",
    "# Remove the element\n",
    "driver.execute_script(\"arguments[0].parentNode.removeChild(arguments[0])\", fb_root_element)"
   ]
  },
  {
   "cell_type": "code",
   "execution_count": 21,
   "id": "7c35e2ba",
   "metadata": {},
   "outputs": [],
   "source": [
    "try:\n",
    "    fb_reset_elements = driver.find_elements(By.CLASS_NAME, 'fb_reset')\n",
    "    for element in fb_reset_elements:\n",
    "        driver.execute_script(\"arguments[0].classList.remove('fb_reset');\", element)\n",
    "except NoSuchElementException: print(\"error\")"
   ]
  },
  {
   "cell_type": "code",
   "execution_count": 24,
   "id": "9432645b",
   "metadata": {},
   "outputs": [],
   "source": [
    "try:\n",
    "    fb_root_element = driver.find_element(By.ID, 'fb-root')\n",
    "    driver.execute_script(\"arguments[0].parentNode.removeChild(arguments[0]);\", fb_root_element)\n",
    "except NoSuchElementException:\n",
    "    pass"
   ]
  },
  {
   "cell_type": "code",
   "execution_count": 29,
   "id": "90e7acae",
   "metadata": {},
   "outputs": [
    {
     "data": {
      "text/plain": [
       "[{'price': 'Total price of the property : 2,30,00,000'},\n",
       " {'price': 'Building Age : 5 - 10 years'},\n",
       " {'price': 'Total price of the property : 1,50,00,000'},\n",
       " {'price': 'Total price of the property : NA'},\n",
       " {'price': 'Total price of the property : NA'},\n",
       " {'price': 'Total price of the property : 3,65,00,000'},\n",
       " {'price': 'Parking Space : Sufficient Parking Space'},\n",
       " {'price': 'Total price of the property : NA'},\n",
       " {'price': 'Building Age : 0 - 1 Years'},\n",
       " {'price': 'Total price of the property : 7,25,00,000'},\n",
       " {'price': 'Total price of the property : NA'},\n",
       " {'price': 'Total price of the property : 1,45,00,000'},\n",
       " {'price': 'Building Age : 1 - 5 Years'},\n",
       " {'price': 'Total price of the property : 5,80,00,000'},\n",
       " {'price': 'Total price of the property : NA'},\n",
       " {'price': 'Building Age : 5 - 10 years'},\n",
       " {'price': 'Total price of the property : NA'},\n",
       " {'price': 'Building Age : 10 - 20 Years'},\n",
       " {'price': 'Building Age : 10 - 20 Years'},\n",
       " {'price': 'Total price of the property : NA'},\n",
       " {'price': 'Building Age : 10 - 20 Years'},\n",
       " {'price': 'Building Age : 10 - 20 Years'},\n",
       " {'price': 'Total price of the property : NA'},\n",
       " {'price': 'Total price of the property : NA'},\n",
       " {'price': 'Total price of the property : NA'},\n",
       " {'price': 'Total price of the property : NA'},\n",
       " {'price': 'Building Age : 0 - 1 Years'},\n",
       " {'price': 'Building Age : 0 - 1 Years'},\n",
       " {'price': 'Total price of the property : NA'},\n",
       " {'price': 'Total price of the property : NA'},\n",
       " {'price': 'Total price of the property : 3,10,00,000'},\n",
       " {'price': 'Building Age : 10 - 20 Years'},\n",
       " {'price': 'Total price of the property : NA'},\n",
       " {'price': 'Total price of the property : NA'},\n",
       " {'price': 'Total price of the property : NA'},\n",
       " {'price': 'Total price of the property : 3,00,00,000'},\n",
       " {'price': 'Total price of the property : NA'},\n",
       " {'price': 'Total price of the property : 1,70,00,000'},\n",
       " {'price': 'Total price of the property : 1,70,00,000'},\n",
       " {'price': 'Building Age : 5 - 10 years'},\n",
       " {'price': 'Total price of the property : NA'},\n",
       " {'price': 'Total price of the property : NA'},\n",
       " {'price': 'Total price of the property : 1,85,00,000'},\n",
       " {'price': 'Total price of the property : 1,60,00,000'},\n",
       " {'price': 'Total price of the property : 4,50,00,000'},\n",
       " {'price': 'Total price of the property : NA'},\n",
       " {'price': 'Building Age : 1 - 5 Years'},\n",
       " {'price': 'Total price of the property : 1,50,00,000'},\n",
       " {'price': 'Total price of the property : 1,75,00,000'},\n",
       " {'price': 'Total price of the property : 1,80,00,000'},\n",
       " {'price': 'Total price of the property : 2,75,00,000'},\n",
       " {'price': 'Total price of the property : NA'},\n",
       " {'price': 'Total price of the property : 1,50,00,000'},\n",
       " {'price': 'Total price of the property : 3,25,00,000'},\n",
       " {'price': 'Building Age : 10 - 20 Years'},\n",
       " {'price': 'Total price of the property : 3,70,00,000'},\n",
       " {'price': 'Total price of the property : 1,80,00,000'},\n",
       " {'price': 'Total price of the property : 1,80,00,000'},\n",
       " {'price': 'Total price of the property : 1,52,00,000'},\n",
       " {'price': 'Building Age : 0 - 1 Years'},\n",
       " {'price': 'Total price of the property : 1,75,00,000'},\n",
       " {'price': 'Total price of the property : 2,80,00,000'},\n",
       " {'price': 'Total price of the property : 4,15,00,000'},\n",
       " {'price': 'Total price of the property : NA'},\n",
       " {'price': 'Total price of the property : 2,30,00,000'},\n",
       " {'price': 'Total price of the property : 1,99,00,000'},\n",
       " {'price': 'Building Age : 0 - 1 Years'},\n",
       " {'price': 'Total price of the property : NA'},\n",
       " {'price': 'Total price of the property : 2,40,00,000'},\n",
       " {'price': 'Total price of the property : NA'},\n",
       " {'price': 'Total price of the property : 2,50,00,000'},\n",
       " {'price': 'Total price of the property : 2,50,00,000'},\n",
       " {'price': 'Total price of the property : 2,60,00,000'},\n",
       " {'price': 'Total price of the property : 2,06,00,000'},\n",
       " {'price': 'Total price of the property : 2,25,00,000'},\n",
       " {'price': 'Total price of the property : NA'},\n",
       " {'price': 'Total price of the property : NA'},\n",
       " {'price': 'Total price of the property : 2,35,00,000'},\n",
       " {'price': 'Total price of the property : 2,00,00,000'},\n",
       " {'price': 'Total price of the property : 2,35,00,000'},\n",
       " {'price': 'Total price of the property : NA'},\n",
       " {'price': 'Total price of the property : 2,37,50,000'},\n",
       " {'price': 'Total price of the property : 2,60,00,000'},\n",
       " {'price': 'Total price of the property : 1,65,00,000'},\n",
       " {'price': 'Total price of the property : 4,50,00,000'},\n",
       " {'price': 'Total price of the property : 2,00,00,000'},\n",
       " {'price': 'Total price of the property : 1,50,00,000'},\n",
       " {'price': 'Total price of the property : 1,55,00,000'},\n",
       " {'price': 'Total price of the property : 2,90,00,000'},\n",
       " {'price': 'Total price of the property : 2,75,00,000'},\n",
       " {'price': 'Total price of the property : 1,52,00,000'},\n",
       " {'price': 'Building Age : 0 - 1 Years'},\n",
       " {'price': 'Total price of the property : 2,40,00,000'},\n",
       " {'price': 'Total price of the property : 2,50,00,000'},\n",
       " {'price': 'Total price of the property : 2,25,00,000'},\n",
       " {'price': 'Total price of the property : 1,35,00,000'},\n",
       " {'price': 'Total price of the property : NA'},\n",
       " {'price': 'Total price of the property : 1,80,00,000'},\n",
       " {'price': 'Total price of the property : 2,15,00,000'},\n",
       " {'price': 'Total price of the property : 2,15,00,000'},\n",
       " {'price': 'Total price of the property : 2,55,00,000'},\n",
       " {'price': 'Total price of the property : 2,60,00,000'},\n",
       " {'price': 'Total price of the property : NA'},\n",
       " {'price': 'Total price of the property : NA'},\n",
       " {'price': 'Total price of the property : NA'},\n",
       " {'price': 'Total price of the property : 3,00,00,000'},\n",
       " {'price': 'Total price of the property : NA'},\n",
       " {'price': 'Total price of the property : 2,35,00,000'},\n",
       " {'price': 'Total price of the property : 3,00,00,000'},\n",
       " {'price': 'Total price of the property : 2,30,00,000'},\n",
       " {'price': 'Total price of the property : NA'},\n",
       " {'price': 'Total price of the property : 3,61,00,000'},\n",
       " {'price': 'Total price of the property : NA'},\n",
       " {'price': 'Total price of the property : NA'},\n",
       " {'price': 'Total price of the property : 3,50,00,000'},\n",
       " {'price': 'Total price of the property : 1,72,00,000'},\n",
       " {'price': 'Building Age : 0 - 1 Years'},\n",
       " {'price': 'Total price of the property : NA'},\n",
       " {'price': 'Total price of the property : NA'},\n",
       " {'price': 'Total price of the property : 2,90,00,000'},\n",
       " {'price': 'Total price of the property : NA'},\n",
       " {'price': 'Total price of the property : NA'},\n",
       " {'price': 'Building Age : 0 - 1 Years'},\n",
       " {'price': 'Total price of the property : 2,50,00,000'},\n",
       " {'price': 'Building Age : 0 - 1 Years'},\n",
       " {'price': 'Building Age : 0 - 1 Years'},\n",
       " {'price': 'Total price of the property : 3,00,00,000'},\n",
       " {'price': 'Total price of the property : 2,35,00,000'},\n",
       " {'price': 'Total price of the property : NA'},\n",
       " {'price': 'Total price of the property : 2,80,00,000'},\n",
       " {'price': 'Total price of the property : 2,40,00,000'},\n",
       " {'price': 'Total price of the property : 2,35,00,000'},\n",
       " {'price': 'Total price of the property : 2,30,00,000'},\n",
       " {'price': 'Total price of the property : 2,99,00,000'},\n",
       " {'price': 'Total price of the property : 2,75,00,000'},\n",
       " {'price': 'Total price of the property : 2,50,00,000'},\n",
       " {'price': 'Total price of the property : NA'},\n",
       " {'price': 'Total price of the property : NA'},\n",
       " {'price': 'Total price of the property : NA'},\n",
       " {'price': 'Total price of the property : 2,90,00,000'},\n",
       " {'price': 'Total price of the property : 4,50,00,000'},\n",
       " {'price': 'Total price of the property : 2,75,00,000'},\n",
       " {'price': 'Total price of the property : 2,15,00,000'},\n",
       " {'price': 'Total price of the property : NA'},\n",
       " {'price': 'Total price of the property : NA'},\n",
       " {'price': 'Total price of the property : 3,90,00,000'},\n",
       " {'price': 'Total price of the property : 2,10,00,000'},\n",
       " {'price': 'Total price of the property : 1,45,00,000'},\n",
       " {'price': 'Total price of the property : 0'},\n",
       " {'price': 'Total price of the property : NA'},\n",
       " {'price': 'Total price of the property : NA'},\n",
       " {'price': 'Total price of the property : NA'},\n",
       " {'price': 'Building Age : 0 - 1 Years'},\n",
       " {'price': 'Total price of the property : 2,60,00,000'},\n",
       " {'price': 'Total price of the property : 2,85,00,000'},\n",
       " {'price': 'Total price of the property : 2,80,00,000'},\n",
       " {'price': 'Total price of the property : 1,90,00,000'},\n",
       " {'price': 'Building Age : 1 - 5 Years'},\n",
       " {'price': 'Total price of the property : NA'},\n",
       " {'price': 'Total price of the property : 3,10,00,000'},\n",
       " {'price': 'Total price of the property : 3,70,00,000'},\n",
       " {'price': 'Building Age : 5 - 10 years'},\n",
       " {'price': 'Total price of the property : NA'},\n",
       " {'price': 'Total price of the property : 3,30,00,000'},\n",
       " {'price': 'Total price of the property : NA'},\n",
       " {'price': 'Total price of the property : NA'},\n",
       " {'price': 'Total price of the property : NA'},\n",
       " {'price': 'Total price of the property : 1,60,00,000'},\n",
       " {'price': 'Total price of the property : NA'},\n",
       " {'price': 'Total price of the property : NA'},\n",
       " {'price': 'Total price of the property : 1,72,00,000'},\n",
       " {'price': 'Total price of the property : 22,00,00,000'},\n",
       " {'price': 'Total price of the property : NA'},\n",
       " {'price': 'Total price of the property : 1,70,00,000'},\n",
       " {'price': 'Total price of the property : 2,55,00,000'},\n",
       " {'price': 'Total price of the property : 2,45,00,000'},\n",
       " {'price': 'Total price of the property : NA'},\n",
       " {'price': 'Total price of the property : NA'},\n",
       " {'price': 'Building Age : 1 - 5 Years'},\n",
       " {'price': 'Total price of the property : 3,50,00,000'},\n",
       " {'price': 'Total price of the property : 3,15,00,000'},\n",
       " {'price': 'Total price of the property : NA'},\n",
       " {'price': 'Total price of the property : 2,30,00,000'},\n",
       " {'price': 'Total price of the property : 3,10,00,000'},\n",
       " {'price': 'Total price of the property : 5,00,00,000'},\n",
       " {'price': 'Total price of the property : 2,25,00,000'},\n",
       " {'price': 'Total price of the property : NA'},\n",
       " {'price': 'Total price of the property : 5,50,00,000'},\n",
       " {'price': 'Total price of the property : 2,60,00,000'},\n",
       " {'price': 'Total price of the property : NA'},\n",
       " {'price': 'Building Age : 10 - 20 Years'},\n",
       " {'price': 'Building Age : 0 - 1 Years'},\n",
       " {'price': 'Building Age : 0 - 1 Years'},\n",
       " {'price': 'Total price of the property : 4,50,00,000'},\n",
       " {'price': 'Total price of the property : 2,35,00,000'},\n",
       " {'price': 'Total price of the property : 4,50,00,000'},\n",
       " {'price': 'Total price of the property : 2,00,00,000'},\n",
       " {'price': 'Total price of the property : 5,00,00,000'},\n",
       " {'price': 'Building Age : 0 - 1 Years'},\n",
       " {'price': 'Total price of the property : 2,35,00,000'},\n",
       " {'price': 'Total price of the property : 2,35,00,000'},\n",
       " {'price': 'Building Age : 5 - 10 years'},\n",
       " {'price': 'Total price of the property : 9,50,00,000'},\n",
       " {'price': 'Total price of the property : NA'},\n",
       " {'price': 'Total price of the property : NA'},\n",
       " {'price': 'Total price of the property : NA'},\n",
       " {'price': 'Total price of the property : 5,25,00,000'},\n",
       " {'price': 'Building Age : 5 - 10 years'},\n",
       " {'price': 'Building Age : 0 - 1 Years'},\n",
       " {'price': 'Total price of the property : NA'},\n",
       " {'price': 'Total price of the property : NA'},\n",
       " {'price': 'Total price of the property : NA'},\n",
       " {'price': 'Total price of the property : 6,75,00,000'},\n",
       " {'price': 'Building Age : 5 - 10 years'},\n",
       " {'price': 'Building Age : 0 - 1 Years'},\n",
       " {'price': 'Total price of the property : 7,00,00,000'},\n",
       " {'price': 'Total price of the property : NA'},\n",
       " {'price': 'Total price of the property : 3,00,00,000'},\n",
       " {'price': 'Total price of the property : NA'},\n",
       " {'price': 'Total price of the property : 4,75,00,000'},\n",
       " {'price': 'Total price of the property : 7,30,00,000'},\n",
       " {'price': 'Posted on: 20 April 2019'},\n",
       " {'price': 'Building Age : 10 - 20 Years'},\n",
       " {'price': 'Posted on: 07 August 2019'},\n",
       " {'price': 'Posted on: 21 July 2022'}]"
      ]
     },
     "execution_count": 29,
     "metadata": {},
     "output_type": "execute_result"
    }
   ],
   "source": [
    "data_list"
   ]
  },
  {
   "cell_type": "code",
   "execution_count": 31,
   "id": "1084d34a",
   "metadata": {},
   "outputs": [],
   "source": [
    "#removing + from parking and adding the vehicles\n",
    "def process_parking_column(input_file, output_file):\n",
    "    df = pd.read_csv(input_file)\n",
    "    df['parking'] = df['parking'].apply(lambda x: sum(map(int, x.split('+'))) if '+' in str(x) else x)\n",
    "    df.to_csv(output_file, index=False)\n",
    "\n",
    "# Usage example\n",
    "process_parking_column('eprophouse3.csv', 'eprophouse4.csv')"
   ]
  },
  {
   "cell_type": "code",
   "execution_count": 33,
   "id": "d2a10266",
   "metadata": {},
   "outputs": [],
   "source": [
    "def subtract_built_year(input_file, output_file):\n",
    "    df = pd.read_csv(input_file)\n",
    "    df['builtyear'] = 2080 - df['builtyear']\n",
    "    df.to_csv(output_file, index=False)\n",
    "\n",
    "# Usage example\n",
    "subtract_built_year('eprophouse4.csv', 'output.csv')"
   ]
  },
  {
   "cell_type": "code",
   "execution_count": 38,
   "id": "7c607d4b",
   "metadata": {
    "scrolled": true
   },
   "outputs": [],
   "source": [
    "#parking 3+ 3-\n",
    "csv_file = 'output.csv'\n",
    "updated_csv_file = 'cleandataeprop.csv'\n",
    "\n",
    "def update_parking_value(value):\n",
    "    try:\n",
    "        numeric_value = int(value)\n",
    "        if numeric_value >= 3:\n",
    "            return '3+'\n",
    "        else:\n",
    "            return '3-'\n",
    "    except ValueError:\n",
    "        return value\n",
    "\n",
    "updated_rows = []\n",
    "\n",
    "with open(csv_file, 'r') as file:\n",
    "    reader = csv.DictReader(file)\n",
    "    fieldnames = reader.fieldnames\n",
    "    for row in reader:\n",
    "        row['parking'] = update_parking_value(row['parking'])\n",
    "        updated_rows.append(row)\n",
    "\n",
    "with open(updated_csv_file, 'w', newline='') as file:\n",
    "    writer = csv.DictWriter(file, fieldnames=fieldnames)\n",
    "    writer.writeheader()\n",
    "    writer.writerows(updated_rows)\n"
   ]
  },
  {
   "cell_type": "code",
   "execution_count": 39,
   "id": "54efbb99",
   "metadata": {},
   "outputs": [
    {
     "ename": "NameError",
     "evalue": "name 'nhs' is not defined",
     "output_type": "error",
     "traceback": [
      "\u001b[1;31m---------------------------------------------------------------------------\u001b[0m",
      "\u001b[1;31mNameError\u001b[0m                                 Traceback (most recent call last)",
      "Cell \u001b[1;32mIn[39], line 1\u001b[0m\n\u001b[1;32m----> 1\u001b[0m \u001b[43mnhs\u001b[49m\u001b[38;5;241m&\u001b[39mggd\n",
      "\u001b[1;31mNameError\u001b[0m: name 'nhs' is not defined"
     ]
    }
   ],
   "source": [
    "nhs&ggd"
   ]
  },
  {
   "cell_type": "code",
   "execution_count": 50,
   "id": "acbd1088",
   "metadata": {},
   "outputs": [],
   "source": [
    "df1 = pd.read_csv('clean_houses.csv')\n",
    "df2 = pd.read_csv('cleandataeprop.csv')\n",
    "df3 = pd.read_csv('nepalhomessearch_dataset_clean.csv')"
   ]
  },
  {
   "cell_type": "code",
   "execution_count": 51,
   "id": "ba02c26d",
   "metadata": {},
   "outputs": [],
   "source": [
    "df_merged = pd.concat([df1, df2, df3], axis=0, ignore_index=True)"
   ]
  },
  {
   "cell_type": "code",
   "execution_count": 52,
   "id": "f6776ceb",
   "metadata": {},
   "outputs": [],
   "source": [
    "df_merged = df_merged.sort_values(by='title', ignore_index=True)"
   ]
  },
  {
   "cell_type": "code",
   "execution_count": 53,
   "id": "d829892d",
   "metadata": {},
   "outputs": [],
   "source": [
    "df_merged.to_csv('merged3.csv', index=False)"
   ]
  },
  {
   "cell_type": "code",
   "execution_count": null,
   "id": "6a175653",
   "metadata": {},
   "outputs": [],
   "source": []
  }
 ],
 "metadata": {
  "kernelspec": {
   "display_name": "Python 3 (ipykernel)",
   "language": "python",
   "name": "python3"
  },
  "language_info": {
   "codemirror_mode": {
    "name": "ipython",
    "version": 3
   },
   "file_extension": ".py",
   "mimetype": "text/x-python",
   "name": "python",
   "nbconvert_exporter": "python",
   "pygments_lexer": "ipython3",
   "version": "3.10.9"
  }
 },
 "nbformat": 4,
 "nbformat_minor": 5
}
