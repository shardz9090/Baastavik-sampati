{
 "cells": [
  {
   "cell_type": "code",
   "execution_count": 1,
   "id": "f56e4f78",
   "metadata": {},
   "outputs": [
    {
     "name": "stdout",
     "output_type": "stream",
     "text": [
      "Null title =  4\n",
      "Null price =  4\n",
      "Null location =  4\n",
      "Null landsize =  13\n",
      "Null bedroom =  16\n",
      "Null bathroom =  16\n",
      "Null built year =  87\n",
      "Null direction =  135\n"
     ]
    }
   ],
   "source": [
    "import pandas as pd\n",
    "\n",
    "# Load the CSV file into a pandas dataframe\n",
    "df = pd.read_csv(\"nepalhomessearch_dataset.csv\")\n",
    "\n",
    "# Count the number of null values under the \"title\" column\n",
    "title_null_values = df[\"title\"].isnull().sum()\n",
    "price_null_values = df[\"price\"].isnull().sum()\n",
    "location_null_values = df[\"location\"].isnull().sum()\n",
    "road_null_values = df[\"Road\"].isnull().sum()\n",
    "land_size_null_values = df[\"land size\"].isnull().sum()\n",
    "parking_null_values = df[\"parking size\"].isnull().sum()\n",
    "bedroom_null_values = df[\"bedroom\"].isnull().sum()\n",
    "bathroom_null_values = df[\"bathroom\"].isnull().sum()\n",
    "built_null_values = df[\"built year\"].isnull().sum()\n",
    "direction_null_values = df[\"direction\"].isnull().sum()\n",
    "# Print the result\n",
    "print(\"Null title = \", title_null_values)\n",
    "print(\"Null price = \", price_null_values)\n",
    "print(\"Null location = \", location_null_values)\n",
    "print(\"Null landsize = \", land_size_null_values)\n",
    "print(\"Null bedroom = \", bedroom_null_values)\n",
    "print(\"Null bathroom = \", bathroom_null_values)\n",
    "print(\"Null built year = \", built_null_values)\n",
    "print(\"Null direction = \", direction_null_values)"
   ]
  },
  {
   "cell_type": "code",
   "execution_count": null,
   "id": "12ddb7c3",
   "metadata": {},
   "outputs": [],
   "source": []
  }
 ],
 "metadata": {
  "kernelspec": {
   "display_name": "Python 3 (ipykernel)",
   "language": "python",
   "name": "python3"
  },
  "language_info": {
   "codemirror_mode": {
    "name": "ipython",
    "version": 3
   },
   "file_extension": ".py",
   "mimetype": "text/x-python",
   "name": "python",
   "nbconvert_exporter": "python",
   "pygments_lexer": "ipython3",
   "version": "3.10.9"
  }
 },
 "nbformat": 4,
 "nbformat_minor": 5
}
