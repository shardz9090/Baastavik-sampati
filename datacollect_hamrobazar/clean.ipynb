{
 "cells": [
  {
   "cell_type": "code",
   "execution_count": 1,
   "id": "fbebd2d7",
   "metadata": {},
   "outputs": [],
   "source": [
    "import csv\n",
    "import re\n",
    "import pandas as pd"
   ]
  },
  {
   "cell_type": "code",
   "execution_count": 3,
   "id": "e2b31514",
   "metadata": {},
   "outputs": [],
   "source": [
    "with open('hamrobazar_SM.csv', 'r', encoding='utf-8') as file:\n",
    "    reader = csv.DictReader(file)\n",
    "    rows = list(reader)\n"
   ]
  },
  {
   "cell_type": "code",
   "execution_count": 9,
   "id": "19bc1c49",
   "metadata": {},
   "outputs": [],
   "source": [
    "# land size 0-0-0-0 to sqft\n",
    "def convert_to_square_feet(value):\n",
    "    parts = value.split(',')\n",
    "    square_feet = 0.0\n",
    "    for part in parts:\n",
    "        sub_parts = part.split('-')\n",
    "        \n",
    "        if len(sub_parts) == 4:\n",
    "            try:\n",
    "                aana = float(sub_parts[1])\n",
    "                ropani = float(sub_parts[0])\n",
    "                dam = float(sub_parts[3])\n",
    "                paisa = float(sub_parts[2])\n",
    "\n",
    "                square_feet += (aana * 342.25) + (ropani * 5476) + (dam * 21.39) + (paisa * 85.56)\n",
    "                break\n",
    "            except ValueError:\n",
    "                pass\n",
    "    return square_feet\n",
    "\n",
    "csv_file = 'hamro.csv'\n",
    "\n",
    "with open(csv_file, 'r', encoding='utf-8') as file:\n",
    "    reader = csv.DictReader(file)\n",
    "    rows = list(reader)\n",
    "\n",
    "for row in rows:\n",
    "    landsize = row['Land']\n",
    "    converted = convert_to_square_feet(landsize)  \n",
    "   \n",
    "    if converted ==0:\n",
    "        row['Land'] = landsize\n",
    "    else:\n",
    "        row['Land'] = str(converted)\n",
    "\n",
    "with open('hamro2.csv', 'w', newline='', encoding='utf-8') as file:\n",
    "    fieldnames = reader.fieldnames\n",
    "    writer = csv.DictWriter(file, fieldnames=fieldnames)\n",
    "    writer.writeheader()\n",
    "    writer.writerows(rows)"
   ]
  },
  {
   "cell_type": "code",
   "execution_count": null,
   "id": "8c7e435e",
   "metadata": {},
   "outputs": [],
   "source": []
  }
 ],
 "metadata": {
  "kernelspec": {
   "display_name": "Python 3 (ipykernel)",
   "language": "python",
   "name": "python3"
  },
  "language_info": {
   "codemirror_mode": {
    "name": "ipython",
    "version": 3
   },
   "file_extension": ".py",
   "mimetype": "text/x-python",
   "name": "python",
   "nbconvert_exporter": "python",
   "pygments_lexer": "ipython3",
   "version": "3.10.9"
  }
 },
 "nbformat": 4,
 "nbformat_minor": 5
}
