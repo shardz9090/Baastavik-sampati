{
 "cells": [
  {
   "cell_type": "code",
   "execution_count": null,
   "id": "862d8e07",
   "metadata": {},
   "outputs": [],
   "source": [
    "import pandas as pd\n",
    "import matplotlib.pyplot as plt\n",
    "import seaborn as sns"
   ]
  },
  {
   "cell_type": "code",
   "execution_count": null,
   "id": "44c845fe",
   "metadata": {},
   "outputs": [],
   "source": [
    "data = pd.read_csv(\"latlong.csv\")"
   ]
  },
  {
   "cell_type": "code",
   "execution_count": null,
   "id": "79755cef",
   "metadata": {},
   "outputs": [],
   "source": [
    "print(data.head())\n",
    "print(data.describe())"
   ]
  },
  {
   "cell_type": "code",
   "execution_count": null,
   "id": "58094d62",
   "metadata": {},
   "outputs": [],
   "source": [
    "# Scatter plot: Land vs. Price\n",
    "plt.figure(figsize=(10, 6))\n",
    "sns.scatterplot(data=data, x='Land', y='Price')\n",
    "plt.title('Land Area vs. House Price')\n",
    "plt.xlabel('Land Area')\n",
    "plt.ylabel('House Price')\n",
    "plt.show()"
   ]
  },
  {
   "cell_type": "code",
   "execution_count": null,
   "id": "e8ac92f0",
   "metadata": {},
   "outputs": [],
   "source": [
    "# Histogram: Distribution of House Prices\n",
    "plt.figure(figsize=(10, 6))\n",
    "sns.histplot(data=data, x='Price', bins=20)\n",
    "plt.title('Distribution of House Prices')\n",
    "plt.xlabel('House Price')\n",
    "plt.ylabel('Frequency')\n",
    "plt.show()"
   ]
  },
  {
   "cell_type": "code",
   "execution_count": null,
   "id": "ecca9fea",
   "metadata": {},
   "outputs": [],
   "source": [
    "# Statistical analysis\n",
    "mean_price = data['Price'].mean()\n",
    "median_price = data['Price'].median()\n",
    "min_price = data['Price'].min()\n",
    "max_price = data['Price'].max()"
   ]
  },
  {
   "cell_type": "code",
   "execution_count": null,
   "id": "2f9858f6",
   "metadata": {},
   "outputs": [],
   "source": [
    "# Generate the report\n",
    "report = f\"\"\"\n",
    "Data Analysis Report:\n",
    "\n",
    "- Number of data points: {len(data)}\n",
    "- Land area summary:\n",
    "    - Minimum land area: {data['Land'].min()}\n",
    "    - Maximum land area: {data['Land'].max()}\n",
    "- House price summary:\n",
    "    - Minimum house price: {min_price}\n",
    "    - Maximum house price: {max_price}\n",
    "    - Average house price: {mean_price}\n",
    "    - Median house price: {median_price}\n",
    "\"\"\"\n",
    "\n",
    "print(report)"
   ]
  }
 ],
 "metadata": {
  "kernelspec": {
   "display_name": "Python 3 (ipykernel)",
   "language": "python",
   "name": "python3"
  },
  "language_info": {
   "codemirror_mode": {
    "name": "ipython",
    "version": 3
   },
   "file_extension": ".py",
   "mimetype": "text/x-python",
   "name": "python",
   "nbconvert_exporter": "python",
   "pygments_lexer": "ipython3",
   "version": "3.10.9"
  }
 },
 "nbformat": 4,
 "nbformat_minor": 5
}
